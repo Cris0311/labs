{
 "cells": [
  {
   "cell_type": "code",
   "execution_count": 6,
   "metadata": {
    "collapsed": true
   },
   "outputs": [],
   "source": [
    "%matplotlib inline"
   ]
  },
  {
   "cell_type": "markdown",
   "metadata": {},
   "source": [
    "# Modeling Static Friction"
   ]
  },
  {
   "cell_type": "markdown",
   "metadata": {},
   "source": [
    "### Introduction:"
   ]
  },
  {
   "cell_type": "markdown",
   "metadata": {},
   "source": [
    "From everyday experience, we know that it takes a certain amount of force to overcome friction and get an object sliding. The goal of this investigation is to model the dependence of this maximum static frictional force on the mass of the object in question."
   ]
  },
  {
   "cell_type": "markdown",
   "metadata": {},
   "source": [
    "### Procedure:"
   ]
  },
  {
   "cell_type": "markdown",
   "metadata": {},
   "source": [
    "We attached a spring scale to the side of a hollow box on a level surface. Adding additional masses, we measured the amount of force it took to get the box to begin to slide. "
   ]
  },
  {
   "cell_type": "markdown",
   "metadata": {},
   "source": [
    "<figure>\n",
    "    <img src=\"img/Friction Apparatus.png\" width=400px/>\n",
    "    <figcaption style=\"text-align:center; font-size: 12px\">Fig. 1 - Sketch of the apparatus</figcaption>\n",
    "</figure>"
   ]
  },
  {
   "cell_type": "markdown",
   "metadata": {},
   "source": [
    "<figure>\n",
    "    <img src=\"img/Apparatus Photo.jpg\" width=400px/>\n",
    "    <figcaption style=\"text-align:center; font-size: 12px;\">Fig. 2 - Photo of the apparatus</figcaption>\n",
    "</figure>"
   ]
  },
  {
   "cell_type": "markdown",
   "metadata": {
    "collapsed": true
   },
   "source": [
    "### Data and Analysis:"
   ]
  },
  {
   "cell_type": "markdown",
   "metadata": {},
   "source": [
    "| $m_{grams}$   | $F_{flat}$  | $i_{incline}$   |\n",
    "|-----|-------|------|\n",
    "| 100   | .5    | 1.20|\n",
    "|200 | .85| 1.80|\n",
    "|300|1.20| 2.45|\n",
    "|400|1.60| 2|\n",
    "|500|2| 2.9|\n",
    "|600|2.25|3.75|\n",
    "\n"
   ]
  },
  {
   "cell_type": "code",
   "execution_count": 10,
   "metadata": {
    "collapsed": false
   },
   "outputs": [
    {
     "data": {
      "image/png": "[encoded data removed]",
      "text/plain": [
       "<matplotlib.figure.Figure at 0x7cb2cf8>"
      ]
     },
     "metadata": {},
     "output_type": "display_data"
    }
   ],
   "source": [
    "import matplotlib.pyplot as plt\n",
    "import numpy as np\n",
    "from scipy.optimize import curve_fit\n",
    "\n",
    "m = [100,200,300,400,500,600]\n",
    "f = [.5,.85,1.20,1.60,2,2.25]\n",
    "i = [1.20,1.80,2.45,2,2.9,3.75]\n",
    "\n",
    "mm = np.linspace(-500, 700, 500)\n",
    "\n",
    "def linear(x, a, b):\n",
    "    return a*x + b \n",
    "\n",
    "a, b = curve_fit(linear, m, f)[0]\n",
    "c, d = curve_fit(linear, m, i)[0]\n",
    "#plt.xlim(0,600)\n",
    "\n",
    "plt.ylim(0,3)\n",
    "plt.title(\"Modeling Static Friction\")\n",
    "plt.xlabel(\"Mass Added (g)\")\n",
    "plt.ylabel(\"Max Frictional Force\")\n",
    "plt.plot(m, f, '.')\n",
    "plt.plot(m, i, '.')\n",
    "plt.plot(mm, linear(mm, a, b), '--')\n",
    "plt.plot(mm, linear(mm, c, d), '--')\n",
    "plt.show()"
   ]
  },
  {
   "cell_type": "markdown",
   "metadata": {
    "collapsed": true
   },
   "source": [
    "## Conclusion: According to our data the mass and friction of our data proves they are linear. To make our experiement more reliable we can add the mass of the box and conduct the experiement more than once for a more accurate data. "
   ]
  },
  {
   "cell_type": "code",
   "execution_count": null,
   "metadata": {
    "collapsed": true
   },
   "outputs": [],
   "source": []
  }
 ],
 "metadata": {
  "anaconda-cloud": {},
  "kernelspec": {
   "display_name": "Python 3",
   "language": "python",
   "name": "python3"
  },
  "language_info": {
   "codemirror_mode": {
    "name": "ipython",
    "version": 3
   },
   "file_extension": ".py",
   "mimetype": "text/x-python",
   "name": "python",
   "nbconvert_exporter": "python",
   "pygments_lexer": "ipython3",
   "version": "3.4.4"
  }
 },
 "nbformat": 4,
 "nbformat_minor": 1
}
